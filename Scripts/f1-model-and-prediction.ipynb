{
 "cells": [
  {
   "cell_type": "code",
   "execution_count": 59,
   "metadata": {
    "_cell_guid": "b1076dfc-b9ad-4769-8c92-a6c4dae69d19",
    "_uuid": "8f2839f25d086af736a60e9eeb907d3b93b6e0e5",
    "execution": {
     "iopub.execute_input": "2025-06-09T08:27:24.609147Z",
     "iopub.status.busy": "2025-06-09T08:27:24.608830Z",
     "iopub.status.idle": "2025-06-09T08:27:24.614669Z",
     "shell.execute_reply": "2025-06-09T08:27:24.613714Z",
     "shell.execute_reply.started": "2025-06-09T08:27:24.609125Z"
    },
    "trusted": true
   },
   "outputs": [],
   "source": [
    "import os\n",
    "import re\n",
    "import pandas as pd\n",
    "import numpy as np\n",
    "import matplotlib.pyplot as plt\n",
    "from matplotlib.ticker import FuncFormatter\n",
    "import torch\n",
    "import torch.nn as nn\n",
    "import torch.optim as optim\n",
    "from torch.utils.data import Dataset, DataLoader\n",
    "from sklearn.preprocessing import MinMaxScaler\n",
    "from sklearn.metrics import mean_absolute_error, mean_squared_error, r2_score"
   ]
  },
  {
   "cell_type": "code",
   "execution_count": null,
   "metadata": {
    "execution": {
     "iopub.execute_input": "2025-06-09T05:29:17.569359Z",
     "iopub.status.busy": "2025-06-09T05:29:17.568636Z",
     "iopub.status.idle": "2025-06-09T05:29:18.540192Z",
     "shell.execute_reply": "2025-06-09T05:29:18.539540Z",
     "shell.execute_reply.started": "2025-06-09T05:29:17.569320Z"
    },
    "trusted": true
   },
   "outputs": [],
   "source": [
    "# CSV imports\n",
    "base_path = '../Data/f1_dataset/'\n",
    "\n",
    "races = pd.read_csv(base_path + 'races.csv')\n",
    "drivers = pd.read_csv(base_path + 'drivers.csv')\n",
    "qualifying = pd.read_csv(base_path + 'qualifying.csv')\n",
    "circuits = pd.read_csv(base_path + 'circuits.csv')\n",
    "constructor_results = pd.read_csv(base_path + 'constructor_results.csv')\n",
    "constructor_standings = pd.read_csv(base_path + 'constructor_standings.csv')\n",
    "constructors = pd.read_csv(base_path + 'constructors.csv')\n",
    "driver_standings = pd.read_csv(base_path + 'driver_standings.csv')\n",
    "lap_times = pd.read_csv(base_path + 'lap_times.csv')\n",
    "pit_stops = pd.read_csv(base_path + 'pit_stops.csv')\n",
    "results = pd.read_csv(base_path + 'results.csv')\n",
    "seasons = pd.read_csv(base_path + 'seasons.csv')\n",
    "sprint_results = pd.read_csv(base_path + 'sprint_results.csv')\n",
    "status = pd.read_csv(base_path + 'status.csv')"
   ]
  },
  {
   "cell_type": "code",
   "execution_count": 3,
   "metadata": {
    "execution": {
     "iopub.execute_input": "2025-06-09T05:28:07.285804Z",
     "iopub.status.busy": "2025-06-09T05:28:07.284986Z",
     "iopub.status.idle": "2025-06-09T05:28:07.290478Z",
     "shell.execute_reply": "2025-06-09T05:28:07.289596Z",
     "shell.execute_reply.started": "2025-06-09T05:28:07.285776Z"
    },
    "trusted": true
   },
   "outputs": [],
   "source": [
    "# Function to convert the given string in mm:ss:sss format to seconds\n",
    "def time_to_seconds(t):\n",
    "    if pd.isna(t): return None\n",
    "    try:\n",
    "        m, s = t.split(':')\n",
    "        return int(m) * 60 + float(s)\n",
    "    except:\n",
    "        return None"
   ]
  },
  {
   "cell_type": "code",
   "execution_count": 5,
   "metadata": {
    "execution": {
     "iopub.execute_input": "2025-06-09T05:28:13.079665Z",
     "iopub.status.busy": "2025-06-09T05:28:13.078902Z",
     "iopub.status.idle": "2025-06-09T05:28:13.085226Z",
     "shell.execute_reply": "2025-06-09T05:28:13.084300Z",
     "shell.execute_reply.started": "2025-06-09T05:28:13.079638Z"
    },
    "trusted": true
   },
   "outputs": [],
   "source": [
    "# Function to convert the given string in mm ss sss format to seconds\n",
    "def time_to_seconds_1(t):\n",
    "    if pd.isna(t): return None\n",
    "    try:\n",
    "        t = str(t).lower().strip()\n",
    "        minutes = seconds = milliseconds = 0\n",
    "        m = re.search(r\"(\\d+)m\", t)\n",
    "        s = re.search(r\"(\\d+)s\", t)\n",
    "        ms = re.search(r\"(\\d+)ms\", t)\n",
    "        if m: minutes = int(m.group(1))\n",
    "        if s: seconds = int(s.group(1))\n",
    "        if ms: milliseconds = int(ms.group(1))\n",
    "\n",
    "        return minutes * 60 + seconds + milliseconds / 1000\n",
    "    except:\n",
    "        return None"
   ]
  },
  {
   "cell_type": "code",
   "execution_count": 6,
   "metadata": {
    "execution": {
     "iopub.execute_input": "2025-06-09T05:28:16.225024Z",
     "iopub.status.busy": "2025-06-09T05:28:16.224265Z",
     "iopub.status.idle": "2025-06-09T05:28:16.229583Z",
     "shell.execute_reply": "2025-06-09T05:28:16.228568Z",
     "shell.execute_reply.started": "2025-06-09T05:28:16.224999Z"
    },
    "trusted": true
   },
   "outputs": [],
   "source": [
    "# Function to convert the given time in seconds to mm:ss:sss format\n",
    "def seconds_to_time_str(s):\n",
    "    if s is None: return ''\n",
    "    m = int(s // 60)\n",
    "    sec = s % 60\n",
    "    return f\"{m:02}:{sec:06.3f}\""
   ]
  },
  {
   "cell_type": "markdown",
   "metadata": {},
   "source": [
    "To make our data usefull, we have to sort them into driver - circuit combinations for every driver and circuit avaliable. \n",
    "We filter out races so that we are only considering races after the Hybrid Era i.e 2014. \n",
    "The fastest lap is the minimum of the Q1, Q2 and Q3 timings as it represents the **fastest raw speed acheivable with minimal interference**. "
   ]
  },
  {
   "cell_type": "markdown",
   "metadata": {},
   "source": [
    "We have to predict F1 lap times as a function of year — for a given driver and circuit combination. So, this is a **time series regression problem** where:\n",
    "* Input:\n",
    "  * Year (numerical, scalar)\n",
    "  * Teammate’s lap time (continuous)\n",
    "  * Constructor ID (categorical or encoded)\n",
    "* Output:\n",
    "  * Lap time (continuous value, in seconds)"
   ]
  },
  {
   "cell_type": "markdown",
   "metadata": {},
   "source": [
    "The lap time trends are nonlinear (due technology changes, rule changes, driver form, etc.). So traditional regression (e.g., linear) might miss subtle patterns .\n",
    "\n",
    "Neural networks are universal function approximators, making them ideal for modeling unknown and complex relationships in a small number of dimensions."
   ]
  },
  {
   "cell_type": "code",
   "execution_count": 36,
   "metadata": {
    "execution": {
     "iopub.execute_input": "2025-06-09T06:10:04.650760Z",
     "iopub.status.busy": "2025-06-09T06:10:04.650399Z",
     "iopub.status.idle": "2025-06-09T06:10:04.657192Z",
     "shell.execute_reply": "2025-06-09T06:10:04.656329Z",
     "shell.execute_reply.started": "2025-06-09T06:10:04.650736Z"
    },
    "trusted": true
   },
   "outputs": [],
   "source": [
    "class F1LapTimePredictor(nn.Module):\n",
    "    def __init__(self):\n",
    "        super(F1LapTimePredictor, self).__init__()\n",
    "        self.fc1 = nn.Linear(3, 8)  # input: year, teammate_time, constructorId\n",
    "        self.prelu1 = nn.PReLU()\n",
    "        self.fc2 = nn.Linear(8, 6)\n",
    "        self.prelu2 = nn.PReLU()\n",
    "        self.fc3 = nn.Linear(6, 1)\n",
    "        self.tanh = nn.Tanh()\n",
    "\n",
    "    def forward(self, x):\n",
    "        x = self.prelu1(self.fc1(x))\n",
    "        x = self.prelu2(self.fc2(x))\n",
    "        x = self.tanh(self.fc3(x))\n",
    "        return x\n"
   ]
  },
  {
   "cell_type": "markdown",
   "metadata": {},
   "source": [
    "We keep the neural network small beacause for every year the **dataset per driver-circuit combination is small** (6-10 data points max). A deep or wide network would overfit immediately."
   ]
  },
  {
   "cell_type": "markdown",
   "metadata": {},
   "source": [
    "We make an interface (__getitem__) that returns a scaled input vector of length 3 and the scaled target lap time for any sample."
   ]
  },
  {
   "cell_type": "code",
   "execution_count": 42,
   "metadata": {
    "execution": {
     "iopub.execute_input": "2025-06-09T06:14:38.097707Z",
     "iopub.status.busy": "2025-06-09T06:14:38.097365Z",
     "iopub.status.idle": "2025-06-09T06:14:38.106100Z",
     "shell.execute_reply": "2025-06-09T06:14:38.105114Z",
     "shell.execute_reply.started": "2025-06-09T06:14:38.097660Z"
    },
    "trusted": true
   },
   "outputs": [],
   "source": [
    "class F1Dataset(Dataset):\n",
    "    def __init__(self, driver_circuit_file):\n",
    "        data = pd.read_csv(driver_circuit_file)\n",
    "\n",
    "        # Drop any rows with missing values\n",
    "        data = data.dropna(subset=['year', 'lap_time_seconds', 'teammate_time', 'constructorId'])\n",
    "\n",
    "        self.year_scaler = MinMaxScaler() #Scales years to the range [0, 1].\n",
    "        self.teammate_scaler = MinMaxScaler() #Scales teammate lap times to [0, 1].\n",
    "        self.constructor_scaler = MinMaxScaler() #Scales constructor IDs (numeric) to [0, 1]\n",
    "        self.lap_time_scaler = MinMaxScaler(feature_range=(-1, 1)) #Scales the target lap times to [-1, 1] because your model's output layer uses tanh, which outputs in that range.\n",
    "\n",
    "        years = data['year'].values.reshape(-1, 1).astype(np.float32)\n",
    "        teammate_times = data['teammate_time'].values.reshape(-1, 1).astype(np.float32)\n",
    "        constructor_ids = data['constructorId'].values.reshape(-1, 1).astype(np.float32)\n",
    "        lap_times = data['lap_time_seconds'].values.reshape(-1, 1).astype(np.float32)\n",
    "\n",
    "        self.scaled_years = self.year_scaler.fit_transform(years)\n",
    "        self.scaled_teammates = self.teammate_scaler.fit_transform(teammate_times)\n",
    "        self.scaled_constructors = self.constructor_scaler.fit_transform(constructor_ids)\n",
    "        self.scaled_lap_times = self.lap_time_scaler.fit_transform(lap_times)\n",
    "\n",
    "    def __len__(self):\n",
    "        return len(self.scaled_years)\n",
    "\n",
    "    def __getitem__(self, idx):\n",
    "        x = np.array([\n",
    "            self.scaled_years[idx][0],\n",
    "            self.scaled_teammates[idx][0],\n",
    "            self.scaled_constructors[idx][0]\n",
    "        ], dtype=np.float32)\n",
    "\n",
    "        y = self.scaled_lap_times[idx]\n",
    "        return torch.tensor(x), torch.tensor(y)\n",
    "\n",
    " "
   ]
  },
  {
   "cell_type": "code",
   "execution_count": 67,
   "metadata": {
    "execution": {
     "iopub.execute_input": "2025-06-09T09:02:24.576896Z",
     "iopub.status.busy": "2025-06-09T09:02:24.576567Z",
     "iopub.status.idle": "2025-06-09T09:02:24.584088Z",
     "shell.execute_reply": "2025-06-09T09:02:24.583200Z",
     "shell.execute_reply.started": "2025-06-09T09:02:24.576875Z"
    },
    "trusted": true
   },
   "outputs": [],
   "source": [
    "#function trains a neural network model (F1LapTimePredictor) to predict F1 lap times based on features for a specific driver-circuit combination.\n",
    "def train_model(driver_circuit_file, epochs=500, learning_rate=0.01, verbose_name=\"\"):\n",
    "    dataset = F1Dataset(driver_circuit_file)\n",
    "    dataloader = DataLoader(dataset, batch_size=len(dataset), shuffle=True)\n",
    "\n",
    "    #instance of model\n",
    "    model = F1LapTimePredictor()\n",
    "    criterion = nn.SmoothL1Loss()\n",
    "    optimizer = optim.Adam(model.parameters(), lr=learning_rate)\n",
    "\n",
    "    model.train()\n",
    "    for epoch in range(epochs):\n",
    "        for features, lap_times in dataloader:  # `features` now contains [year, teammate_time, constructorId]\n",
    "            outputs = model(features)\n",
    "            loss = criterion(outputs, lap_times)\n",
    "            optimizer.zero_grad()\n",
    "            loss.backward()\n",
    "            optimizer.step()\n",
    "\n",
    "        # if (epoch + 1) % 100 == 0:\n",
    "        #     print(f\"[{verbose_name}] Epoch [{epoch + 1}/{epochs}], Loss: {loss.item():.6f}\")\n",
    "\n",
    "    # After training completes, returns the trained model and all the scalers used for each input feature and target.\n",
    "    # Essential for prediction\n",
    "    return (\n",
    "        model,\n",
    "        dataset.year_scaler,\n",
    "        dataset.lap_time_scaler,\n",
    "        dataset.teammate_scaler,\n",
    "        dataset.constructor_scaler\n",
    "    )\n",
    "\n"
   ]
  },
  {
   "cell_type": "code",
   "execution_count": 43,
   "metadata": {
    "execution": {
     "iopub.execute_input": "2025-06-09T06:14:44.262642Z",
     "iopub.status.busy": "2025-06-09T06:14:44.262311Z",
     "iopub.status.idle": "2025-06-09T06:14:44.269259Z",
     "shell.execute_reply": "2025-06-09T06:14:44.268480Z",
     "shell.execute_reply.started": "2025-06-09T06:14:44.262618Z"
    },
    "trusted": true
   },
   "outputs": [],
   "source": [
    "#This function takes a trained model and associated scalers, along with specific input values.\n",
    "# Itpredicts the lap time in the original scale.\n",
    "\n",
    "def predict_lap_time(model, year_scaler, lap_time_scaler, teammate_scaler, constructor_scaler,\n",
    "                     year, teammate_time, constructor_id):\n",
    "    model.eval()\n",
    "    with torch.no_grad():\n",
    "        # Normalize each input feature\n",
    "        year_norm = year_scaler.transform(np.array([[year]]).astype(np.float32))\n",
    "        teammate_norm = teammate_scaler.transform(np.array([[teammate_time]]).astype(np.float32))\n",
    "        constructor_norm = constructor_scaler.transform(np.array([[constructor_id]]).astype(np.float32))\n",
    "\n",
    "        # Combine into single input tensor\n",
    "        input_features = np.hstack([year_norm, teammate_norm, constructor_norm])\n",
    "        input_tensor = torch.tensor(input_features, dtype=torch.float32)\n",
    "\n",
    "        # Predict and inverse transform the result\n",
    "        predicted_norm = model(input_tensor)\n",
    "        predicted = lap_time_scaler.inverse_transform(predicted_norm.numpy())\n",
    "        \n",
    "    return float(predicted.squeeze())\n"
   ]
  },
  {
   "cell_type": "markdown",
   "metadata": {},
   "source": [
    "We train a separate model for each driver - circuit combination (using the train_model() above) and predict the lap times (usinh predict_lap_time() above). \n",
    "\n",
    "If we are predicting for a year which we already have data for we do the error analysis and see how much deviation the prediction has from the actual data. "
   ]
  },
  {
   "cell_type": "markdown",
   "metadata": {},
   "source": [
    "It Predicts lap times using year, teammate’s lap time, and constructor ID and saves it in a csv."
   ]
  },
  {
   "cell_type": "code",
   "execution_count": null,
   "metadata": {
    "execution": {
     "iopub.execute_input": "2025-06-09T11:56:40.826761Z",
     "iopub.status.busy": "2025-06-09T11:56:40.826440Z",
     "iopub.status.idle": "2025-06-09T12:05:05.298250Z",
     "shell.execute_reply": "2025-06-09T12:05:05.297384Z",
     "shell.execute_reply.started": "2025-06-09T11:56:40.826741Z"
    },
    "trusted": true
   },
   "outputs": [
    {
     "name": "stdout",
     "output_type": "stream",
     "text": [
      "2022 prediction complete. Results saved to predicted_vs_actual_2022.csv\n"
     ]
    }
   ],
   "source": [
    "prediction_year = 2022\n",
    "results = []\n",
    "data_folder = '../Data/driver_circuit_data'\n",
    "\n",
    "for file_name in os.listdir(data_folder):\n",
    "    if file_name.endswith(\".csv\"):\n",
    "        file_path = os.path.join(data_folder, file_name)\n",
    "        try:\n",
    "            model, year_scaler, lap_time_scaler, teammate_scaler, constructor_scaler = train_model(\n",
    "                file_path,\n",
    "                verbose_name=file_name.replace(\".csv\", \"\")\n",
    "            )\n",
    "            data = pd.read_csv(file_path)\n",
    "            actual_row = data[data['year'] == prediction_year]\n",
    "            if not actual_row.empty:\n",
    "                teammate_time = actual_row['teammate_time'].values[0]\n",
    "                constructor_id = actual_row['constructorId'].values[0]\n",
    "                actual_time = actual_row['lap_time_seconds'].values[0]\n",
    "                predicted_time = predict_lap_time(\n",
    "                    model,\n",
    "                    year_scaler,\n",
    "                    lap_time_scaler,\n",
    "                    teammate_scaler,\n",
    "                    constructor_scaler,\n",
    "                    prediction_year,\n",
    "                    teammate_time,\n",
    "                    constructor_id\n",
    "                )\n",
    "                deviation_pct = abs(predicted_time - actual_time) / actual_time * 100\n",
    "            else:\n",
    "                predicted_time = predict_lap_time(\n",
    "                    model,\n",
    "                    year_scaler,\n",
    "                    lap_time_scaler,\n",
    "                    teammate_scaler,\n",
    "                    constructor_scaler,\n",
    "                    prediction_year,\n",
    "                    0.0,        # default value if missing\n",
    "                    0           # default constructor ID if missing\n",
    "                )\n",
    "                actual_time = None\n",
    "                deviation_pct = None\n",
    "\n",
    "            base_name = file_name.replace(\".csv\", \"\")\n",
    "            parts = base_name.split(\"_\")\n",
    "            driver = f\"{parts[0]}_{parts[1]}\"\n",
    "            circuit = \"_\".join(parts[2:])\n",
    "\n",
    "            results.append({\n",
    "                \"driver\": driver,\n",
    "                \"circuit\": circuit,\n",
    "                f\"predicted_lap_time_{prediction_year}\": predicted_time,\n",
    "                f\"actual_lap_time_{prediction_year}\": actual_time,\n",
    "                \"deviation_percent\": deviation_pct\n",
    "            })\n",
    "\n",
    "        except Exception as e:\n",
    "            print(f\"Failed for {file_name}: {e}\")\n",
    "\n",
    "results_df = pd.DataFrame(results)\n",
    "results_df.to_csv(f\"../Data/predicted_vs_actual/predicted_vs_actual_{prediction_year}.csv\", index=False)\n",
    "print(f\"{prediction_year} prediction complete. Results saved to predicted_vs_actual_{prediction_year}.csv\")\n"
   ]
  },
  {
   "cell_type": "markdown",
   "metadata": {},
   "source": [
    "so now i have to make predictions for lap times of every driver for every circuit. "
   ]
  },
  {
   "cell_type": "code",
   "execution_count": null,
   "metadata": {
    "execution": {
     "iopub.execute_input": "2025-06-09T12:26:11.797914Z",
     "iopub.status.busy": "2025-06-09T12:26:11.797356Z",
     "iopub.status.idle": "2025-06-09T12:26:11.822207Z",
     "shell.execute_reply": "2025-06-09T12:26:11.821437Z",
     "shell.execute_reply.started": "2025-06-09T12:26:11.797877Z"
    },
    "trusted": true
   },
   "outputs": [
    {
     "name": "stderr",
     "output_type": "stream",
     "text": [
      "/usr/local/lib/python3.11/dist-packages/pandas/io/formats/format.py:1458: RuntimeWarning: invalid value encountered in greater\n",
      "  has_large_values = (abs_vals > 1e6).any()\n",
      "/usr/local/lib/python3.11/dist-packages/pandas/io/formats/format.py:1459: RuntimeWarning: invalid value encountered in less\n",
      "  has_small_values = ((abs_vals < 10 ** (-self.digits)) & (abs_vals > 0)).any()\n",
      "/usr/local/lib/python3.11/dist-packages/pandas/io/formats/format.py:1459: RuntimeWarning: invalid value encountered in greater\n",
      "  has_small_values = ((abs_vals < 10 ** (-self.digits)) & (abs_vals > 0)).any()\n"
     ]
    },
    {
     "data": {
      "text/html": [
       "<div>\n",
       "<style scoped>\n",
       "    .dataframe tbody tr th:only-of-type {\n",
       "        vertical-align: middle;\n",
       "    }\n",
       "\n",
       "    .dataframe tbody tr th {\n",
       "        vertical-align: top;\n",
       "    }\n",
       "\n",
       "    .dataframe thead th {\n",
       "        text-align: right;\n",
       "    }\n",
       "</style>\n",
       "<table border=\"1\" class=\"dataframe\">\n",
       "  <thead>\n",
       "    <tr style=\"text-align: right;\">\n",
       "      <th></th>\n",
       "      <th>driver</th>\n",
       "      <th>circuit</th>\n",
       "      <th>predicted_lap_time_2022</th>\n",
       "      <th>actual_lap_time_2022</th>\n",
       "      <th>deviation_percent</th>\n",
       "    </tr>\n",
       "  </thead>\n",
       "  <tbody>\n",
       "    <tr>\n",
       "      <th>117</th>\n",
       "      <td>Nicholas_Latifi</td>\n",
       "      <td>Red_Bull_Ring</td>\n",
       "      <td>65.176</td>\n",
       "      <td>67.003</td>\n",
       "      <td>2.73</td>\n",
       "    </tr>\n",
       "    <tr>\n",
       "      <th>74</th>\n",
       "      <td>Lewis_Hamilton</td>\n",
       "      <td>Hungaroring</td>\n",
       "      <td>76.564</td>\n",
       "      <td>78.035</td>\n",
       "      <td>1.89</td>\n",
       "    </tr>\n",
       "    <tr>\n",
       "      <th>472</th>\n",
       "      <td>Lance_Stroll</td>\n",
       "      <td>Bahrain_International_Circuit</td>\n",
       "      <td>91.423</td>\n",
       "      <td>93.032</td>\n",
       "      <td>1.73</td>\n",
       "    </tr>\n",
       "    <tr>\n",
       "      <th>7</th>\n",
       "      <td>George_Russell</td>\n",
       "      <td>Yas_Marina_Circuit</td>\n",
       "      <td>83.214</td>\n",
       "      <td>84.511</td>\n",
       "      <td>1.54</td>\n",
       "    </tr>\n",
       "    <tr>\n",
       "      <th>550</th>\n",
       "      <td>Max_Verstappen</td>\n",
       "      <td>Circuit_de_Monaco</td>\n",
       "      <td>70.567</td>\n",
       "      <td>71.666</td>\n",
       "      <td>1.53</td>\n",
       "    </tr>\n",
       "    <tr>\n",
       "      <th>...</th>\n",
       "      <td>...</td>\n",
       "      <td>...</td>\n",
       "      <td>...</td>\n",
       "      <td>...</td>\n",
       "      <td>...</td>\n",
       "    </tr>\n",
       "    <tr>\n",
       "      <th>358</th>\n",
       "      <td>Guanyu_Zhou</td>\n",
       "      <td>Baku_City_Circuit</td>\n",
       "      <td>103.777</td>\n",
       "      <td>103.777</td>\n",
       "      <td>0.00</td>\n",
       "    </tr>\n",
       "    <tr>\n",
       "      <th>47</th>\n",
       "      <td>Sebastian_Vettel</td>\n",
       "      <td>Albert_Park_Grand_Prix_Circuit</td>\n",
       "      <td>NaN</td>\n",
       "      <td>81.149</td>\n",
       "      <td>NaN</td>\n",
       "    </tr>\n",
       "    <tr>\n",
       "      <th>206</th>\n",
       "      <td>Pierre_Gasly</td>\n",
       "      <td>Jeddah_Corniche_Circuit</td>\n",
       "      <td>NaN</td>\n",
       "      <td>89.254</td>\n",
       "      <td>NaN</td>\n",
       "    </tr>\n",
       "    <tr>\n",
       "      <th>221</th>\n",
       "      <td>Fernando_Alonso</td>\n",
       "      <td>Miami_International_Autodrome</td>\n",
       "      <td>NaN</td>\n",
       "      <td>90.160</td>\n",
       "      <td>NaN</td>\n",
       "    </tr>\n",
       "    <tr>\n",
       "      <th>240</th>\n",
       "      <td>Nicholas_Latifi</td>\n",
       "      <td>Autodromo_Enzo_e_Dino_Ferrari</td>\n",
       "      <td>NaN</td>\n",
       "      <td>81.971</td>\n",
       "      <td>NaN</td>\n",
       "    </tr>\n",
       "  </tbody>\n",
       "</table>\n",
       "<p>391 rows × 5 columns</p>\n",
       "</div>"
      ],
      "text/plain": [
       "               driver                         circuit  \\\n",
       "117   Nicholas_Latifi                   Red_Bull_Ring   \n",
       "74     Lewis_Hamilton                     Hungaroring   \n",
       "472      Lance_Stroll   Bahrain_International_Circuit   \n",
       "7      George_Russell              Yas_Marina_Circuit   \n",
       "550    Max_Verstappen               Circuit_de_Monaco   \n",
       "..                ...                             ...   \n",
       "358       Guanyu_Zhou               Baku_City_Circuit   \n",
       "47   Sebastian_Vettel  Albert_Park_Grand_Prix_Circuit   \n",
       "206      Pierre_Gasly         Jeddah_Corniche_Circuit   \n",
       "221   Fernando_Alonso   Miami_International_Autodrome   \n",
       "240   Nicholas_Latifi   Autodromo_Enzo_e_Dino_Ferrari   \n",
       "\n",
       "     predicted_lap_time_2022  actual_lap_time_2022  deviation_percent  \n",
       "117                   65.176                67.003               2.73  \n",
       "74                    76.564                78.035               1.89  \n",
       "472                   91.423                93.032               1.73  \n",
       "7                     83.214                84.511               1.54  \n",
       "550                   70.567                71.666               1.53  \n",
       "..                       ...                   ...                ...  \n",
       "358                  103.777               103.777               0.00  \n",
       "47                       NaN                81.149                NaN  \n",
       "206                      NaN                89.254                NaN  \n",
       "221                      NaN                90.160                NaN  \n",
       "240                      NaN                81.971                NaN  \n",
       "\n",
       "[391 rows x 5 columns]"
      ]
     },
     "metadata": {},
     "output_type": "display_data"
    },
    {
     "name": "stdout",
     "output_type": "stream",
     "text": [
      "\n",
      "📊 Average Deviation Across All Predictions (2022): 0.16%\n"
     ]
    }
   ],
   "source": [
    "# Use this snippet to get the % deviation when the predicted year is in the training dataset.\n",
    "df = pd.read_csv(f\"..Data/predicted_vs_actual/predicted_vs_actual_{prediction_year}.csv\")\n",
    "df = df.dropna(subset=[f'actual_lap_time_{prediction_year}'])\n",
    "df_sorted = df.sort_values(by='deviation_percent', ascending=False)\n",
    "df_sorted[f'predicted_lap_time_{prediction_year}'] = df_sorted[f'predicted_lap_time_{prediction_year}'].round(3)\n",
    "df_sorted[f'actual_lap_time_{prediction_year}'] = df_sorted[f'actual_lap_time_{prediction_year}'].round(3)\n",
    "df_sorted['deviation_percent'] = df_sorted['deviation_percent'].round(2)\n",
    "\n",
    "error_table = df_sorted[['driver', 'circuit', \n",
    "                         f'predicted_lap_time_{prediction_year}', \n",
    "                         f'actual_lap_time_{prediction_year}', \n",
    "                         'deviation_percent']]\n",
    "display(error_table)\n",
    "\n",
    "average_deviation = df_sorted['deviation_percent'].mean()\n",
    "print(f\"\\n📊 Average Deviation Across All Predictions ({prediction_year}): {average_deviation:.2f}%\")\n",
    "\n"
   ]
  },
  {
   "cell_type": "code",
   "execution_count": 110,
   "metadata": {
    "execution": {
     "iopub.execute_input": "2025-06-09T12:26:18.422781Z",
     "iopub.status.busy": "2025-06-09T12:26:18.422091Z",
     "iopub.status.idle": "2025-06-09T12:26:18.434942Z",
     "shell.execute_reply": "2025-06-09T12:26:18.434143Z",
     "shell.execute_reply.started": "2025-06-09T12:26:18.422757Z"
    },
    "trusted": true
   },
   "outputs": [
    {
     "name": "stdout",
     "output_type": "stream",
     "text": [
      "📏 MAE: 0.137 seconds\n",
      "📏 RMSE: 0.287 seconds\n",
      "📈 R² Score: 0.9994\n",
      "📊 MAPE: 0.16%\n",
      "📊 sMAPE: 0.16%\n"
     ]
    }
   ],
   "source": [
    "# Use this snippet to get the % deviation when the predicted year is in the training dataset.\n",
    "valid_rows = df[[f'predicted_lap_time_{prediction_year}', f'actual_lap_time_{prediction_year}']].dropna()\n",
    "y_true = valid_rows[f'actual_lap_time_{prediction_year}']\n",
    "y_pred = valid_rows[f'predicted_lap_time_{prediction_year}']\n",
    "\n",
    "# Compute metrics\n",
    "mae = mean_absolute_error(y_true, y_pred)\n",
    "rmse = mean_squared_error(y_true, y_pred, squared=False)\n",
    "r2 = r2_score(y_true, y_pred)\n",
    "mape = (abs((y_pred - y_true) / y_true) * 100).mean()\n",
    "\n",
    "# sMAPE function\n",
    "def smape(y_true, y_pred):\n",
    "    return 100 * np.mean(2 * np.abs(y_pred - y_true) / (np.abs(y_pred) + np.abs(y_true)))\n",
    "\n",
    "symmetric_mape = smape(y_true.values, y_pred.values)\n",
    "\n",
    "# Print metrics\n",
    "print(f\"📏 MAE: {mae:.3f} seconds\")\n",
    "print(f\"📏 RMSE: {rmse:.3f} seconds\")\n",
    "print(f\"📈 R² Score: {r2:.4f}\")\n",
    "print(f\"📊 MAPE: {mape:.2f}%\")\n",
    "print(f\"📊 sMAPE: {symmetric_mape:.2f}%\")"
   ]
  },
  {
   "cell_type": "code",
   "execution_count": null,
   "metadata": {
    "execution": {
     "iopub.execute_input": "2025-06-09T11:56:13.577471Z",
     "iopub.status.busy": "2025-06-09T11:56:13.577174Z",
     "iopub.status.idle": "2025-06-09T11:56:13.616479Z",
     "shell.execute_reply": "2025-06-09T11:56:13.615706Z",
     "shell.execute_reply.started": "2025-06-09T11:56:13.577451Z"
    },
    "trusted": true
   },
   "outputs": [
    {
     "data": {
      "text/html": [
       "<div>\n",
       "<style scoped>\n",
       "    .dataframe tbody tr th:only-of-type {\n",
       "        vertical-align: middle;\n",
       "    }\n",
       "\n",
       "    .dataframe tbody tr th {\n",
       "        vertical-align: top;\n",
       "    }\n",
       "\n",
       "    .dataframe thead th {\n",
       "        text-align: right;\n",
       "    }\n",
       "</style>\n",
       "<table border=\"1\" class=\"dataframe\">\n",
       "  <thead>\n",
       "    <tr style=\"text-align: right;\">\n",
       "      <th></th>\n",
       "      <th>driver</th>\n",
       "      <th>circuit</th>\n",
       "      <th>predicted_lap_time_2025</th>\n",
       "      <th>actual_lap_time_2025</th>\n",
       "      <th>deviation_percent</th>\n",
       "    </tr>\n",
       "  </thead>\n",
       "  <tbody>\n",
       "    <tr>\n",
       "      <th>0</th>\n",
       "      <td>Max_Verstappen</td>\n",
       "      <td>Albert_Park_Grand_Prix_Circuit</td>\n",
       "      <td>75.915</td>\n",
       "      <td>75.481</td>\n",
       "      <td>0.57</td>\n",
       "    </tr>\n",
       "    <tr>\n",
       "      <th>1</th>\n",
       "      <td>Esteban_Ocon</td>\n",
       "      <td>Autodromo_Enzo_e_Dino_Ferrari</td>\n",
       "      <td>75.117</td>\n",
       "      <td>76.613</td>\n",
       "      <td>1.95</td>\n",
       "    </tr>\n",
       "    <tr>\n",
       "      <th>2</th>\n",
       "      <td>Pierre_Gasly</td>\n",
       "      <td>Shanghai_International_Circuit</td>\n",
       "      <td>92.930</td>\n",
       "      <td>91.992</td>\n",
       "      <td>1.02</td>\n",
       "    </tr>\n",
       "    <tr>\n",
       "      <th>3</th>\n",
       "      <td>Pierre_Gasly</td>\n",
       "      <td>Circuit_de_Monaco</td>\n",
       "      <td>70.896</td>\n",
       "      <td>71.994</td>\n",
       "      <td>1.53</td>\n",
       "    </tr>\n",
       "    <tr>\n",
       "      <th>4</th>\n",
       "      <td>Yuki_Tsunoda</td>\n",
       "      <td>Jeddah_Corniche_Circuit</td>\n",
       "      <td>89.939</td>\n",
       "      <td>87.990</td>\n",
       "      <td>2.22</td>\n",
       "    </tr>\n",
       "    <tr>\n",
       "      <th>...</th>\n",
       "      <td>...</td>\n",
       "      <td>...</td>\n",
       "      <td>...</td>\n",
       "      <td>...</td>\n",
       "      <td>...</td>\n",
       "    </tr>\n",
       "    <tr>\n",
       "      <th>66</th>\n",
       "      <td>Lewis_Hamilton</td>\n",
       "      <td>Autodromo_Enzo_e_Dino_Ferrari</td>\n",
       "      <td>73.706</td>\n",
       "      <td>75.765</td>\n",
       "      <td>2.72</td>\n",
       "    </tr>\n",
       "    <tr>\n",
       "      <th>67</th>\n",
       "      <td>Yuki_Tsunoda</td>\n",
       "      <td>Albert_Park_Grand_Prix_Circuit</td>\n",
       "      <td>79.424</td>\n",
       "      <td>75.670</td>\n",
       "      <td>4.96</td>\n",
       "    </tr>\n",
       "    <tr>\n",
       "      <th>68</th>\n",
       "      <td>Lance_Stroll</td>\n",
       "      <td>Shanghai_International_Circuit</td>\n",
       "      <td>93.986</td>\n",
       "      <td>91.773</td>\n",
       "      <td>2.41</td>\n",
       "    </tr>\n",
       "    <tr>\n",
       "      <th>69</th>\n",
       "      <td>Lance_Stroll</td>\n",
       "      <td>Autodromo_Enzo_e_Dino_Ferrari</td>\n",
       "      <td>75.138</td>\n",
       "      <td>75.497</td>\n",
       "      <td>0.48</td>\n",
       "    </tr>\n",
       "    <tr>\n",
       "      <th>70</th>\n",
       "      <td>Carlos_Sainz</td>\n",
       "      <td>Autodromo_Enzo_e_Dino_Ferrari</td>\n",
       "      <td>74.911</td>\n",
       "      <td>75.198</td>\n",
       "      <td>0.38</td>\n",
       "    </tr>\n",
       "  </tbody>\n",
       "</table>\n",
       "<p>71 rows × 5 columns</p>\n",
       "</div>"
      ],
      "text/plain": [
       "            driver                         circuit  predicted_lap_time_2025  \\\n",
       "0   Max_Verstappen  Albert_Park_Grand_Prix_Circuit                   75.915   \n",
       "1     Esteban_Ocon   Autodromo_Enzo_e_Dino_Ferrari                   75.117   \n",
       "2     Pierre_Gasly  Shanghai_International_Circuit                   92.930   \n",
       "3     Pierre_Gasly               Circuit_de_Monaco                   70.896   \n",
       "4     Yuki_Tsunoda         Jeddah_Corniche_Circuit                   89.939   \n",
       "..             ...                             ...                      ...   \n",
       "66  Lewis_Hamilton   Autodromo_Enzo_e_Dino_Ferrari                   73.706   \n",
       "67    Yuki_Tsunoda  Albert_Park_Grand_Prix_Circuit                   79.424   \n",
       "68    Lance_Stroll  Shanghai_International_Circuit                   93.986   \n",
       "69    Lance_Stroll   Autodromo_Enzo_e_Dino_Ferrari                   75.138   \n",
       "70    Carlos_Sainz   Autodromo_Enzo_e_Dino_Ferrari                   74.911   \n",
       "\n",
       "    actual_lap_time_2025  deviation_percent  \n",
       "0                 75.481               0.57  \n",
       "1                 76.613               1.95  \n",
       "2                 91.992               1.02  \n",
       "3                 71.994               1.53  \n",
       "4                 87.990               2.22  \n",
       "..                   ...                ...  \n",
       "66                75.765               2.72  \n",
       "67                75.670               4.96  \n",
       "68                91.773               2.41  \n",
       "69                75.497               0.48  \n",
       "70                75.198               0.38  \n",
       "\n",
       "[71 rows x 5 columns]"
      ]
     },
     "metadata": {},
     "output_type": "display_data"
    },
    {
     "name": "stdout",
     "output_type": "stream",
     "text": [
      "\n",
      "📊 Overall Average Deviation for 2025 Predictions: 1.25%\n",
      "\n",
      "📍 Average Deviation by Circuit:\n",
      "\n",
      "circuit\n",
      "Autodromo_Enzo_e_Dino_Ferrari     1.56\n",
      "Suzuka_Circuit                    1.53\n",
      "Miami_International_Autodrome     1.48\n",
      "Albert_Park_Grand_Prix_Circuit    1.35\n",
      "Shanghai_International_Circuit    1.34\n",
      "Circuit_de_Monaco                 0.88\n",
      "Jeddah_Corniche_Circuit           0.63\n",
      "Name: deviation_percent, dtype: float64\n"
     ]
    }
   ],
   "source": [
    "# Use this snippet to get the % deviation for unseen data (eg: 2025)\n",
    "\n",
    "pred_df = pd.read_csv(\"..Data/predicted_vs_actual/predicted_vs_actual_2025.csv\")\n",
    "actual_df = pd.read_csv(\"..Data/2025_data/2025_qualifying_data.csv\")\n",
    "if 'actual_lap_time_2025' in pred_df.columns:\n",
    "    pred_df = pred_df.drop(columns=['actual_lap_time_2025'])\n",
    "if 'deviation_percent' in pred_df.columns:\n",
    "    pred_df = pred_df.drop(columns=['deviation_percent'])\n",
    "\n",
    "actual_df['qualifying_time'] = actual_df['qualifying_time'].astype(str)\n",
    "actual_df['actual_lap_time_2025'] = actual_df['qualifying_time'].apply(time_to_seconds_1)\n",
    "actual_df = actual_df[actual_df['actual_lap_time_2025'].notna()]\n",
    "actual_df = actual_df[actual_df['actual_lap_time_2025'] > 0]\n",
    "actual_df = actual_df[~actual_df['circuit'].isin(['Bahrain_International_Circuit', 'Circuit_de_BarcelonaCatalunya'])]\n",
    "\n",
    "actual_df.rename(columns={'driver_name': 'driver'}, inplace=True)\n",
    "merged_df = pd.merge(\n",
    "    pred_df,\n",
    "    actual_df[['driver', 'circuit', 'actual_lap_time_2025']],\n",
    "    on=['driver', 'circuit'],\n",
    "    how='inner'\n",
    ")\n",
    "merged_df = merged_df[merged_df['predicted_lap_time_2025'].notna()]\n",
    "merged_df = merged_df[merged_df['predicted_lap_time_2025'] > 0]\n",
    "merged_df['deviation_percent'] = (\n",
    "    abs(merged_df['predicted_lap_time_2025'] - merged_df['actual_lap_time_2025']) \n",
    "    / merged_df['actual_lap_time_2025'] * 100\n",
    ")\n",
    "merged_df['predicted_lap_time_2025'] = merged_df['predicted_lap_time_2025'].round(3)\n",
    "merged_df['actual_lap_time_2025'] = merged_df['actual_lap_time_2025'].round(3)\n",
    "merged_df['deviation_percent'] = merged_df['deviation_percent'].round(2)\n",
    "display(merged_df[['driver', 'circuit', 'predicted_lap_time_2025', 'actual_lap_time_2025', 'deviation_percent']])\n",
    "overall_avg = merged_df['deviation_percent'].mean()\n",
    "per_circuit_avg = merged_df.groupby('circuit')['deviation_percent'].mean().sort_values(ascending=False)\n",
    "\n",
    "print(f\"\\n📊 Overall Average Deviation for 2025 Predictions: {overall_avg:.2f}%\")\n",
    "print(\"\\n📍 Average Deviation by Circuit:\\n\")\n",
    "print(per_circuit_avg.round(2))\n",
    "\n",
    "\n"
   ]
  }
 ],
 "metadata": {
  "kaggle": {
   "accelerator": "none",
   "dataSources": [
    {
     "datasetId": 468218,
     "sourceId": 10606304,
     "sourceType": "datasetVersion"
    },
    {
     "datasetId": 7615340,
     "sourceId": 12096781,
     "sourceType": "datasetVersion"
    },
    {
     "datasetId": 7622666,
     "sourceId": 12107374,
     "sourceType": "datasetVersion"
    },
    {
     "datasetId": 7622899,
     "sourceId": 12107712,
     "sourceType": "datasetVersion"
    }
   ],
   "dockerImageVersionId": 31040,
   "isGpuEnabled": false,
   "isInternetEnabled": true,
   "language": "python",
   "sourceType": "notebook"
  },
  "kernelspec": {
   "display_name": "Python 3",
   "language": "python",
   "name": "python3"
  },
  "language_info": {
   "codemirror_mode": {
    "name": "ipython",
    "version": 3
   },
   "file_extension": ".py",
   "mimetype": "text/x-python",
   "name": "python",
   "nbconvert_exporter": "python",
   "pygments_lexer": "ipython3",
   "version": "3.11.11"
  }
 },
 "nbformat": 4,
 "nbformat_minor": 4
}
